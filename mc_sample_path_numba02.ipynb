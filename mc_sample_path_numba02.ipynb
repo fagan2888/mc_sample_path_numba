{
 "metadata": {
  "name": "",
  "signature": "sha256:594f2c44119eb2940ff17d29171b53f8b1756dc178d1ef7f8b83dbb50b0fb4c8"
 },
 "nbformat": 3,
 "nbformat_minor": 0,
 "worksheets": [
  {
   "cells": [
    {
     "cell_type": "code",
     "collapsed": false,
     "input": [
      "from __future__ import division\n",
      "\n",
      "import numpy as np\n",
      "import quantecon as qe"
     ],
     "language": "python",
     "metadata": {},
     "outputs": [],
     "prompt_number": 1
    },
    {
     "cell_type": "code",
     "collapsed": false,
     "input": [
      "import warnings\n",
      "\n",
      "numba_installed = True\n",
      "try:\n",
      "    from numba import jit\n",
      "except ImportError:\n",
      "    numba_installed = False\n",
      "    numba_warning_message = \"Numba import failed.  Falling back to non-optimized routine.\"\n",
      "    warnings.warn(numba_warning_message, UserWarning)"
     ],
     "language": "python",
     "metadata": {},
     "outputs": [],
     "prompt_number": 2
    },
    {
     "cell_type": "code",
     "collapsed": false,
     "input": [
      "def mc_sample_path(P, init, sample_size):\n",
      "    # CDFs, one for each row of P\n",
      "    cdfs = np.cumsum(P, axis=-1)\n",
      "    \n",
      "    # Random values, uniformly sampled from [0, 1)\n",
      "    u = np.random.random(size=sample_size)\n",
      "    \n",
      "    # === set up array to store output === #\n",
      "    X = np.empty(sample_size, dtype=int)\n",
      "    if isinstance(init, int):\n",
      "        X[0] = init\n",
      "    else:\n",
      "        cdf0 = np.cumsum(init)\n",
      "        X[0] = cdf0.searchsorted(u[0], side='right')\n",
      "\n",
      "    # === generate the sample path === #\n",
      "    n = len(cdfs)\n",
      "    for t in range(sample_size-1):\n",
      "        lo = -1\n",
      "        hi = n - 1\n",
      "        while(lo < hi-1):\n",
      "            m = (lo + hi) // 2\n",
      "            if u[t+1] < cdfs[X[t], m]:\n",
      "                hi = m\n",
      "            else:\n",
      "                lo = m\n",
      "        X[t+1] = hi\n",
      "\n",
      "    return X\n",
      "\n",
      "\n",
      "def mc_sample_path_numpy(P, init, sample_size):\n",
      "    # CDFs, one for each row of P\n",
      "    cdfs = np.cumsum(P, axis=-1)\n",
      "    \n",
      "    # Random values, uniformly sampled from [0, 1)\n",
      "    u = np.random.random(size=sample_size)\n",
      "    \n",
      "    # === set up array to store output === #\n",
      "    X = np.empty(sample_size, dtype=int)\n",
      "    if isinstance(init, int):\n",
      "        X[0] = init\n",
      "    else:\n",
      "        cdf0 = np.cumsum(init)\n",
      "        X[0] = cdf0.searchsorted(u[0], side='right')\n",
      "\n",
      "    # === generate the sample path === #\n",
      "    for t in range(sample_size-1):\n",
      "        X[t+1] = cdfs[X[t]].searchsorted(u[t+1], side='right')\n",
      "\n",
      "    return X\n",
      "\n",
      "\n",
      "if numba_installed:\n",
      "    mc_sample_path = jit(mc_sample_path)\n",
      "else:\n",
      "    mc_sample_path = mc_sample_path_numpy"
     ],
     "language": "python",
     "metadata": {},
     "outputs": [],
     "prompt_number": 3
    },
    {
     "cell_type": "code",
     "collapsed": false,
     "input": [
      "P = np.array([[0.4, 0.6], [0.2, 0.8]])\n",
      "init = (0.25, 0.75)\n",
      "sample_size = 10"
     ],
     "language": "python",
     "metadata": {},
     "outputs": [],
     "prompt_number": 4
    },
    {
     "cell_type": "code",
     "collapsed": false,
     "input": [
      "qe.mc_sample_path(P, init=init, sample_size=sample_size)"
     ],
     "language": "python",
     "metadata": {},
     "outputs": [
      {
       "metadata": {},
       "output_type": "pyout",
       "prompt_number": 5,
       "text": [
        "array([1, 0, 1, 0, 1, 1, 1, 1, 1, 0])"
       ]
      }
     ],
     "prompt_number": 5
    },
    {
     "cell_type": "code",
     "collapsed": false,
     "input": [
      "mc_sample_path_numpy(P, init=init, sample_size=sample_size)"
     ],
     "language": "python",
     "metadata": {},
     "outputs": [
      {
       "metadata": {},
       "output_type": "pyout",
       "prompt_number": 6,
       "text": [
        "array([1, 1, 1, 1, 1, 1, 1, 1, 1, 1])"
       ]
      }
     ],
     "prompt_number": 6
    },
    {
     "cell_type": "code",
     "collapsed": false,
     "input": [
      "mc_sample_path(P, init=init, sample_size=sample_size)"
     ],
     "language": "python",
     "metadata": {},
     "outputs": [
      {
       "metadata": {},
       "output_type": "pyout",
       "prompt_number": 7,
       "text": [
        "array([1, 1, 1, 1, 1, 1, 1, 0, 0, 0])"
       ]
      }
     ],
     "prompt_number": 7
    },
    {
     "cell_type": "code",
     "collapsed": false,
     "input": [
      "mc_sample_path(P, init, sample_size)"
     ],
     "language": "python",
     "metadata": {},
     "outputs": [
      {
       "metadata": {},
       "output_type": "pyout",
       "prompt_number": 8,
       "text": [
        "array([1, 1, 1, 1, 1, 1, 1, 1, 1, 0])"
       ]
      }
     ],
     "prompt_number": 8
    },
    {
     "cell_type": "code",
     "collapsed": false,
     "input": [
      "sample_size = 10**4\n",
      "for func in [qe.mc_sample_path, mc_sample_path_numpy, mc_sample_path]:\n",
      "    X = func(P, init, sample_size)\n",
      "    print X.sum() / sample_size  # Should be close to 0.75"
     ],
     "language": "python",
     "metadata": {},
     "outputs": [
      {
       "output_type": "stream",
       "stream": "stdout",
       "text": [
        "0.7476\n",
        "0.754\n",
        "0.7483\n"
       ]
      }
     ],
     "prompt_number": 9
    },
    {
     "cell_type": "code",
     "collapsed": false,
     "input": [
      "P = np.array([[0.4, 0.6], [0.2, 0.8]])\n",
      "init = (0.25, 0.75)\n",
      "sample_size = 10**5 * 2\n",
      "for func in [qe.mc_sample_path, mc_sample_path_numpy, mc_sample_path]:\n",
      "    %timeit func(P, init, sample_size)"
     ],
     "language": "python",
     "metadata": {},
     "outputs": [
      {
       "output_type": "stream",
       "stream": "stdout",
       "text": [
        "1 loops, best of 3: 871 ms per loop\n",
        "1 loops, best of 3: 351 ms per loop"
       ]
      },
      {
       "output_type": "stream",
       "stream": "stdout",
       "text": [
        "\n",
        "100 loops, best of 3: 2.77 ms per loop"
       ]
      },
      {
       "output_type": "stream",
       "stream": "stdout",
       "text": [
        "\n"
       ]
      }
     ],
     "prompt_number": 10
    },
    {
     "cell_type": "code",
     "collapsed": false,
     "input": [
      "def random_probvec(k, m):\n",
      "    \"\"\"\n",
      "    Create probability vectors.\n",
      "    Parameters\n",
      "    ----------\n",
      "    k : scalar(int)\n",
      "        Dimension of each probability vectors.\n",
      "    m : scalar(int)\n",
      "        Number of probability vectors.\n",
      "    Returns\n",
      "    -------\n",
      "    ndarray(float, ndim=2)\n",
      "        Array of shape (m, k) containing probability vectors as rows.\n",
      "    \"\"\"\n",
      "    x = np.empty((m, k+1))\n",
      "    r = np.random.rand(m, k-1)\n",
      "    r.sort(axis=-1)\n",
      "    x[:, 0], x[:, 1:k], x[:, k] = 0, r, 1\n",
      "    return np.diff(x, axis=-1)\n",
      "\n",
      "def random_stochmat(k):\n",
      "    return random_probvec(k, k)"
     ],
     "language": "python",
     "metadata": {},
     "outputs": [],
     "prompt_number": 11
    },
    {
     "cell_type": "code",
     "collapsed": false,
     "input": [
      "sizes = [10, 100, 1000, 3000]\n",
      "rand_matrices = []\n",
      "\n",
      "for n in sizes:\n",
      "    Q = random_stochmat(n)\n",
      "    rand_matrices.append(Q)"
     ],
     "language": "python",
     "metadata": {},
     "outputs": [],
     "prompt_number": 12
    },
    {
     "cell_type": "code",
     "collapsed": false,
     "input": [
      "sample_size = 10**5 * 2\n",
      "init = 0\n",
      "for i, Q in enumerate(rand_matrices):\n",
      "    print 'rand_matrices[{0}] ({1} x {2})'.format(i, Q.shape[0], Q.shape[1])\n",
      "    for func in [qe.mc_sample_path, mc_sample_path_numpy, mc_sample_path]:\n",
      "        %timeit func(Q, init, sample_size)"
     ],
     "language": "python",
     "metadata": {},
     "outputs": [
      {
       "output_type": "stream",
       "stream": "stdout",
       "text": [
        "rand_matrices[0] (10 x 10)\n",
        "1 loops, best of 3: 881 ms per loop"
       ]
      },
      {
       "output_type": "stream",
       "stream": "stdout",
       "text": [
        "\n",
        "1 loops, best of 3: 360 ms per loop"
       ]
      },
      {
       "output_type": "stream",
       "stream": "stdout",
       "text": [
        "\n",
        "1 loops, best of 3: 5.69 ms per loop"
       ]
      },
      {
       "output_type": "stream",
       "stream": "stdout",
       "text": [
        "\n",
        "rand_matrices[1] (100 x 100)\n",
        "1 loops, best of 3: 903 ms per loop"
       ]
      },
      {
       "output_type": "stream",
       "stream": "stdout",
       "text": [
        "\n",
        "1 loops, best of 3: 356 ms per loop"
       ]
      },
      {
       "output_type": "stream",
       "stream": "stdout",
       "text": [
        "\n",
        "100 loops, best of 3: 11.1 ms per loop"
       ]
      },
      {
       "output_type": "stream",
       "stream": "stdout",
       "text": [
        "\n",
        "rand_matrices[2] (1000 x 1000)\n",
        "1 loops, best of 3: 912 ms per loop"
       ]
      },
      {
       "output_type": "stream",
       "stream": "stdout",
       "text": [
        "\n",
        "1 loops, best of 3: 385 ms per loop"
       ]
      },
      {
       "output_type": "stream",
       "stream": "stdout",
       "text": [
        "\n",
        "10 loops, best of 3: 29.6 ms per loop"
       ]
      },
      {
       "output_type": "stream",
       "stream": "stdout",
       "text": [
        "\n",
        "rand_matrices[3] (3000 x 3000)\n",
        "1 loops, best of 3: 1.01 s per loop"
       ]
      },
      {
       "output_type": "stream",
       "stream": "stdout",
       "text": [
        "\n",
        "1 loops, best of 3: 450 ms per loop"
       ]
      },
      {
       "output_type": "stream",
       "stream": "stdout",
       "text": [
        "\n",
        "10 loops, best of 3: 93.8 ms per loop"
       ]
      },
      {
       "output_type": "stream",
       "stream": "stdout",
       "text": [
        "\n"
       ]
      }
     ],
     "prompt_number": 13
    },
    {
     "cell_type": "code",
     "collapsed": false,
     "input": [
      "sample_sizes = [10**i for i in range(3, 6)]\n",
      "Q = rand_matrices[0]\n",
      "init = 0\n",
      "for sample_size in sample_sizes:\n",
      "    print 'sample_size = {0}'.format(sample_size)\n",
      "    for func in [qe.mc_sample_path, mc_sample_path_numpy, mc_sample_path]:\n",
      "        %timeit func(Q, init, sample_size)"
     ],
     "language": "python",
     "metadata": {},
     "outputs": [
      {
       "output_type": "stream",
       "stream": "stdout",
       "text": [
        "sample_size = 1000\n",
        "100 loops, best of 3: 4.42 ms per loop"
       ]
      },
      {
       "output_type": "stream",
       "stream": "stdout",
       "text": [
        "\n",
        "1000 loops, best of 3: 1.82 ms per loop"
       ]
      },
      {
       "output_type": "stream",
       "stream": "stdout",
       "text": [
        "\n",
        "10000 loops, best of 3: 39.4 \u00b5s per loop"
       ]
      },
      {
       "output_type": "stream",
       "stream": "stdout",
       "text": [
        "\n",
        "sample_size = 10000\n",
        "10 loops, best of 3: 43.4 ms per loop"
       ]
      },
      {
       "output_type": "stream",
       "stream": "stdout",
       "text": [
        "\n",
        "100 loops, best of 3: 18 ms per loop"
       ]
      },
      {
       "output_type": "stream",
       "stream": "stdout",
       "text": [
        "\n",
        "1000 loops, best of 3: 291 \u00b5s per loop"
       ]
      },
      {
       "output_type": "stream",
       "stream": "stdout",
       "text": [
        "\n",
        "sample_size = 100000\n",
        "1 loops, best of 3: 428 ms per loop"
       ]
      },
      {
       "output_type": "stream",
       "stream": "stdout",
       "text": [
        "\n",
        "10 loops, best of 3: 181 ms per loop"
       ]
      },
      {
       "output_type": "stream",
       "stream": "stdout",
       "text": [
        "\n",
        "100 loops, best of 3: 2.91 ms per loop"
       ]
      },
      {
       "output_type": "stream",
       "stream": "stdout",
       "text": [
        "\n"
       ]
      }
     ],
     "prompt_number": 14
    },
    {
     "cell_type": "code",
     "collapsed": false,
     "input": [
      "def mc_sample_path_2(P, init, sample_size):\n",
      "    # CDFs, one for each row of P\n",
      "    cdfs = np.cumsum(P, axis=-1)\n",
      "    \n",
      "    # Random values, uniformly sampled from [0, 1)\n",
      "    u = np.random.random(size=sample_size)\n",
      "    \n",
      "    # === set up array to store output === #\n",
      "    X = np.empty(sample_size, dtype=int)\n",
      "    if isinstance(init, int):\n",
      "        X[0] = init\n",
      "    else:\n",
      "        cdf0 = np.cumsum(init)\n",
      "        X[0] = cdf0.searchsorted(u[0], side='right')\n",
      "\n",
      "    # === generate the sample path === #\n",
      "    if numba_installed:\n",
      "        _mc_sample_path_jit(cdfs, u, X)\n",
      "        return X\n",
      "    \n",
      "    # if not numba_installed\n",
      "    for t in range(sample_size-1):\n",
      "        X[t+1] = cdfs[X[t]].searchsorted(u[t+1], side='right')\n",
      "\n",
      "    return X\n",
      "\n",
      "\n",
      "if numba_installed:\n",
      "    @jit(nopython=True)\n",
      "    def _mc_sample_path_jit(cdfs, u, out):\n",
      "        n = len(cdfs)\n",
      "        sample_size = len(u)\n",
      "\n",
      "        for t in range(sample_size-1):\n",
      "            lo = -1\n",
      "            hi = n - 1\n",
      "            while(lo < hi-1):\n",
      "                m = (lo + hi) // 2\n",
      "                if u[t+1] < cdfs[out[t], m]:\n",
      "                    hi = m\n",
      "                else:\n",
      "                    lo = m\n",
      "            out[t+1] = hi"
     ],
     "language": "python",
     "metadata": {},
     "outputs": [],
     "prompt_number": 15
    },
    {
     "cell_type": "code",
     "collapsed": false,
     "input": [
      "P = np.array([[0.4, 0.6], [0.2, 0.8]])\n",
      "sample_size = 10**4\n",
      "\n",
      "X = mc_sample_path_2(P, init=init, sample_size=sample_size)\n",
      "print X.sum() / sample_size  # Should be close to 0.75"
     ],
     "language": "python",
     "metadata": {},
     "outputs": [
      {
       "output_type": "stream",
       "stream": "stdout",
       "text": [
        "0.7526\n"
       ]
      }
     ],
     "prompt_number": 16
    },
    {
     "cell_type": "code",
     "collapsed": false,
     "input": [
      "sample_sizes = [10**i for i in range(3, 6)]\n",
      "Q = rand_matrices[0]\n",
      "init = 0\n",
      "for sample_size in sample_sizes:\n",
      "    print 'sample_size = {0}'.format(sample_size)\n",
      "    %timeit mc_sample_path_2(Q, init=init, sample_size=sample_size)"
     ],
     "language": "python",
     "metadata": {},
     "outputs": [
      {
       "output_type": "stream",
       "stream": "stdout",
       "text": [
        "sample_size = 1000\n",
        "10000 loops, best of 3: 39 \u00b5s per loop"
       ]
      },
      {
       "output_type": "stream",
       "stream": "stdout",
       "text": [
        "\n",
        "sample_size = 10000\n",
        "1000 loops, best of 3: 312 \u00b5s per loop"
       ]
      },
      {
       "output_type": "stream",
       "stream": "stdout",
       "text": [
        "\n",
        "sample_size = 100000\n",
        "100 loops, best of 3: 2.96 ms per loop"
       ]
      },
      {
       "output_type": "stream",
       "stream": "stdout",
       "text": [
        "\n"
       ]
      }
     ],
     "prompt_number": 17
    },
    {
     "cell_type": "code",
     "collapsed": false,
     "input": [
      "import platform\n",
      "print platform.platform()"
     ],
     "language": "python",
     "metadata": {},
     "outputs": [
      {
       "output_type": "stream",
       "stream": "stdout",
       "text": [
        "Darwin-13.4.0-x86_64-i386-64bit\n"
       ]
      }
     ],
     "prompt_number": 18
    },
    {
     "cell_type": "code",
     "collapsed": false,
     "input": [
      "import sys\n",
      "print sys.version"
     ],
     "language": "python",
     "metadata": {},
     "outputs": [
      {
       "output_type": "stream",
       "stream": "stdout",
       "text": [
        "2.7.8 (default, Jul  2 2014, 10:14:46) \n",
        "[GCC 4.2.1 Compatible Apple LLVM 5.1 (clang-503.0.40)]\n"
       ]
      }
     ],
     "prompt_number": 19
    },
    {
     "cell_type": "code",
     "collapsed": false,
     "input": [
      "print np.__version__"
     ],
     "language": "python",
     "metadata": {},
     "outputs": [
      {
       "output_type": "stream",
       "stream": "stdout",
       "text": [
        "1.9.0\n"
       ]
      }
     ],
     "prompt_number": 20
    },
    {
     "cell_type": "code",
     "collapsed": false,
     "input": [
      "import numba\n",
      "print numba.__version__"
     ],
     "language": "python",
     "metadata": {},
     "outputs": [
      {
       "output_type": "stream",
       "stream": "stdout",
       "text": [
        "0.17.0\n"
       ]
      }
     ],
     "prompt_number": 21
    },
    {
     "cell_type": "code",
     "collapsed": false,
     "input": [],
     "language": "python",
     "metadata": {},
     "outputs": [],
     "prompt_number": 21
    }
   ],
   "metadata": {}
  }
 ]
}