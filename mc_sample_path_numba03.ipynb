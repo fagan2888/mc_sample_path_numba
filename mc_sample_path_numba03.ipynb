{
 "metadata": {
  "name": "",
  "signature": "sha256:3d2efcebea15e97a071e44b1ca2d9b9d85745b8130d8779aa45917eb9b8818ad"
 },
 "nbformat": 3,
 "nbformat_minor": 0,
 "worksheets": [
  {
   "cells": [
    {
     "cell_type": "code",
     "collapsed": false,
     "input": [
      "from __future__ import division\n",
      "\n",
      "import numpy as np\n",
      "import quantecon as qe"
     ],
     "language": "python",
     "metadata": {},
     "outputs": [],
     "prompt_number": 1
    },
    {
     "cell_type": "code",
     "collapsed": false,
     "input": [
      "import warnings\n",
      "\n",
      "numba_installed = True\n",
      "try:\n",
      "    from numba import jit\n",
      "except ImportError:\n",
      "    numba_installed = False\n",
      "    numba_warning_message = \"Numba import failed.  Falling back to non-optimized routine.\"\n",
      "    warnings.warn(numba_warning_message, UserWarning)"
     ],
     "language": "python",
     "metadata": {},
     "outputs": [],
     "prompt_number": 2
    },
    {
     "cell_type": "code",
     "collapsed": false,
     "input": [
      "def mc_sample_path(P, init, sample_size):\n",
      "    # CDFs, one for each row of P\n",
      "    cdfs = np.cumsum(P, axis=-1)\n",
      "    \n",
      "    # Random values, uniformly sampled from [0, 1)\n",
      "    u = np.random.random(size=sample_size)\n",
      "    \n",
      "    # === set up array to store output === #\n",
      "    X = np.empty(sample_size, dtype=int)\n",
      "    if isinstance(init, int):\n",
      "        X[0] = init\n",
      "    else:\n",
      "        cdf0 = np.cumsum(init)\n",
      "        X[0] = cdf0.searchsorted(u[0], side='right')\n",
      "\n",
      "    # === generate the sample path === #\n",
      "    n = len(cdfs)\n",
      "    for t in range(sample_size-1):\n",
      "        lo = -1\n",
      "        hi = n - 1\n",
      "        while(lo < hi-1):\n",
      "            m = (lo + hi) // 2\n",
      "            if u[t+1] < cdfs[X[t], m]:\n",
      "                hi = m\n",
      "            else:\n",
      "                lo = m\n",
      "        X[t+1] = hi\n",
      "\n",
      "    return X\n",
      "\n",
      "\n",
      "def mc_sample_path_numpy(P, init, sample_size):\n",
      "    # CDFs, one for each row of P\n",
      "    cdfs = np.cumsum(P, axis=-1)\n",
      "    \n",
      "    # Random values, uniformly sampled from [0, 1)\n",
      "    u = np.random.random(size=sample_size)\n",
      "    \n",
      "    # === set up array to store output === #\n",
      "    X = np.empty(sample_size, dtype=int)\n",
      "    if isinstance(init, int):\n",
      "        X[0] = init\n",
      "    else:\n",
      "        cdf0 = np.cumsum(init)\n",
      "        X[0] = cdf0.searchsorted(u[0], side='right')\n",
      "\n",
      "    # === generate the sample path === #\n",
      "    for t in range(sample_size-1):\n",
      "        X[t+1] = cdfs[X[t]].searchsorted(u[t+1], side='right')\n",
      "\n",
      "    return X\n",
      "\n",
      "\n",
      "if numba_installed:\n",
      "    mc_sample_path = jit(mc_sample_path)\n",
      "else:\n",
      "    mc_sample_path = mc_sample_path_numpy"
     ],
     "language": "python",
     "metadata": {},
     "outputs": [],
     "prompt_number": 3
    },
    {
     "cell_type": "code",
     "collapsed": false,
     "input": [
      "P = np.array([[0.4, 0.6], [0.2, 0.8]])\n",
      "init = (0.25, 0.75)\n",
      "sample_size = 10"
     ],
     "language": "python",
     "metadata": {},
     "outputs": [],
     "prompt_number": 4
    },
    {
     "cell_type": "code",
     "collapsed": false,
     "input": [
      "qe.mc_sample_path(P, init=init, sample_size=sample_size)"
     ],
     "language": "python",
     "metadata": {},
     "outputs": [
      {
       "metadata": {},
       "output_type": "pyout",
       "prompt_number": 5,
       "text": [
        "array([1, 1, 1, 1, 1, 1, 1, 1, 0, 0])"
       ]
      }
     ],
     "prompt_number": 5
    },
    {
     "cell_type": "code",
     "collapsed": false,
     "input": [
      "mc_sample_path_numpy(P, init=init, sample_size=sample_size)"
     ],
     "language": "python",
     "metadata": {},
     "outputs": [
      {
       "metadata": {},
       "output_type": "pyout",
       "prompt_number": 6,
       "text": [
        "array([1, 1, 1, 1, 1, 1, 1, 1, 1, 1])"
       ]
      }
     ],
     "prompt_number": 6
    },
    {
     "cell_type": "code",
     "collapsed": false,
     "input": [
      "mc_sample_path(P, init=init, sample_size=sample_size)"
     ],
     "language": "python",
     "metadata": {},
     "outputs": [
      {
       "metadata": {},
       "output_type": "pyout",
       "prompt_number": 7,
       "text": [
        "array([0, 1, 1, 1, 1, 1, 1, 0, 0, 1])"
       ]
      }
     ],
     "prompt_number": 7
    },
    {
     "cell_type": "code",
     "collapsed": false,
     "input": [
      "mc_sample_path(P, init, sample_size)"
     ],
     "language": "python",
     "metadata": {},
     "outputs": [
      {
       "metadata": {},
       "output_type": "pyout",
       "prompt_number": 8,
       "text": [
        "array([1, 1, 1, 1, 1, 1, 1, 0, 0, 0])"
       ]
      }
     ],
     "prompt_number": 8
    },
    {
     "cell_type": "code",
     "collapsed": false,
     "input": [
      "sample_size = 10**4\n",
      "for func in [qe.mc_sample_path, mc_sample_path_numpy, mc_sample_path]:\n",
      "    X = func(P, init, sample_size)\n",
      "    print X.sum() / sample_size  # Should be close to 0.75"
     ],
     "language": "python",
     "metadata": {},
     "outputs": [
      {
       "output_type": "stream",
       "stream": "stdout",
       "text": [
        "0.7437\n",
        "0.7546\n",
        "0.7486\n"
       ]
      }
     ],
     "prompt_number": 9
    },
    {
     "cell_type": "code",
     "collapsed": false,
     "input": [
      "P = np.array([[0.4, 0.6], [0.2, 0.8]])\n",
      "init = (0.25, 0.75)\n",
      "sample_size = 10**5 * 2\n",
      "for func in [qe.mc_sample_path, mc_sample_path_numpy, mc_sample_path]:\n",
      "    %timeit func(P, init, sample_size)"
     ],
     "language": "python",
     "metadata": {},
     "outputs": [
      {
       "output_type": "stream",
       "stream": "stdout",
       "text": [
        "1 loops, best of 3: 539 ms per loop\n",
        "1 loops, best of 3: 299 ms per loop"
       ]
      },
      {
       "output_type": "stream",
       "stream": "stdout",
       "text": [
        "\n",
        "100 loops, best of 3: 3.33 ms per loop"
       ]
      },
      {
       "output_type": "stream",
       "stream": "stdout",
       "text": [
        "\n"
       ]
      }
     ],
     "prompt_number": 10
    },
    {
     "cell_type": "code",
     "collapsed": false,
     "input": [
      "def random_probvec(k, m):\n",
      "    \"\"\"\n",
      "    Create probability vectors.\n",
      "    Parameters\n",
      "    ----------\n",
      "    k : scalar(int)\n",
      "        Dimension of each probability vectors.\n",
      "    m : scalar(int)\n",
      "        Number of probability vectors.\n",
      "    Returns\n",
      "    -------\n",
      "    ndarray(float, ndim=2)\n",
      "        Array of shape (m, k) containing probability vectors as rows.\n",
      "    \"\"\"\n",
      "    x = np.empty((m, k+1))\n",
      "    r = np.random.rand(m, k-1)\n",
      "    r.sort(axis=-1)\n",
      "    x[:, 0], x[:, 1:k], x[:, k] = 0, r, 1\n",
      "    return np.diff(x, axis=-1)\n",
      "\n",
      "def random_stochmat(k):\n",
      "    return random_probvec(k, k)"
     ],
     "language": "python",
     "metadata": {},
     "outputs": [],
     "prompt_number": 11
    },
    {
     "cell_type": "code",
     "collapsed": false,
     "input": [
      "sizes = [10, 100, 1000, 3000]\n",
      "rand_matrices = []\n",
      "\n",
      "for n in sizes:\n",
      "    Q = random_stochmat(n)\n",
      "    rand_matrices.append(Q)"
     ],
     "language": "python",
     "metadata": {},
     "outputs": [],
     "prompt_number": 12
    },
    {
     "cell_type": "code",
     "collapsed": false,
     "input": [
      "sample_size = 10**5 * 2\n",
      "init = 0\n",
      "for i, Q in enumerate(rand_matrices):\n",
      "    print 'rand_matrices[{0}] ({1} x {2})'.format(i, Q.shape[0], Q.shape[1])\n",
      "    for func in [qe.mc_sample_path, mc_sample_path_numpy, mc_sample_path]:\n",
      "        %timeit func(Q, init, sample_size)"
     ],
     "language": "python",
     "metadata": {},
     "outputs": [
      {
       "output_type": "stream",
       "stream": "stdout",
       "text": [
        "rand_matrices[0] (10 x 10)\n",
        "1 loops, best of 3: 518 ms per loop"
       ]
      },
      {
       "output_type": "stream",
       "stream": "stdout",
       "text": [
        "\n",
        "1 loops, best of 3: 298 ms per loop"
       ]
      },
      {
       "output_type": "stream",
       "stream": "stdout",
       "text": [
        "\n",
        "1 loops, best of 3: 6.25 ms per loop"
       ]
      },
      {
       "output_type": "stream",
       "stream": "stdout",
       "text": [
        "\n",
        "rand_matrices[1] (100 x 100)\n",
        "1 loops, best of 3: 563 ms per loop"
       ]
      },
      {
       "output_type": "stream",
       "stream": "stdout",
       "text": [
        "\n",
        "1 loops, best of 3: 303 ms per loop"
       ]
      },
      {
       "output_type": "stream",
       "stream": "stdout",
       "text": [
        "\n",
        "100 loops, best of 3: 12.8 ms per loop"
       ]
      },
      {
       "output_type": "stream",
       "stream": "stdout",
       "text": [
        "\n",
        "rand_matrices[2] (1000 x 1000)\n",
        "1 loops, best of 3: 601 ms per loop"
       ]
      },
      {
       "output_type": "stream",
       "stream": "stdout",
       "text": [
        "\n",
        "1 loops, best of 3: 352 ms per loop"
       ]
      },
      {
       "output_type": "stream",
       "stream": "stdout",
       "text": [
        "\n",
        "10 loops, best of 3: 44.9 ms per loop"
       ]
      },
      {
       "output_type": "stream",
       "stream": "stdout",
       "text": [
        "\n",
        "rand_matrices[3] (3000 x 3000)\n",
        "1 loops, best of 3: 732 ms per loop"
       ]
      },
      {
       "output_type": "stream",
       "stream": "stdout",
       "text": [
        "\n",
        "1 loops, best of 3: 422 ms per loop"
       ]
      },
      {
       "output_type": "stream",
       "stream": "stdout",
       "text": [
        "\n",
        "10 loops, best of 3: 129 ms per loop"
       ]
      },
      {
       "output_type": "stream",
       "stream": "stdout",
       "text": [
        "\n"
       ]
      }
     ],
     "prompt_number": 13
    },
    {
     "cell_type": "code",
     "collapsed": false,
     "input": [
      "sample_sizes = [10**i for i in range(3, 6)]\n",
      "Q = rand_matrices[0]\n",
      "init = 0\n",
      "for sample_size in sample_sizes:\n",
      "    print 'sample_size = {0}'.format(sample_size)\n",
      "    for func in [qe.mc_sample_path, mc_sample_path_numpy, mc_sample_path]:\n",
      "        %timeit func(Q, init, sample_size)"
     ],
     "language": "python",
     "metadata": {},
     "outputs": [
      {
       "output_type": "stream",
       "stream": "stdout",
       "text": [
        "sample_size = 1000\n",
        "100 loops, best of 3: 2.58 ms per loop"
       ]
      },
      {
       "output_type": "stream",
       "stream": "stdout",
       "text": [
        "\n",
        "1000 loops, best of 3: 1.53 ms per loop"
       ]
      },
      {
       "output_type": "stream",
       "stream": "stdout",
       "text": [
        "\n",
        "10000 loops, best of 3: 43.2 \u00b5s per loop"
       ]
      },
      {
       "output_type": "stream",
       "stream": "stdout",
       "text": [
        "\n",
        "sample_size = 10000\n",
        "10 loops, best of 3: 27.8 ms per loop"
       ]
      },
      {
       "output_type": "stream",
       "stream": "stdout",
       "text": [
        "\n",
        "100 loops, best of 3: 15.2 ms per loop"
       ]
      },
      {
       "output_type": "stream",
       "stream": "stdout",
       "text": [
        "\n",
        "1000 loops, best of 3: 311 \u00b5s per loop"
       ]
      },
      {
       "output_type": "stream",
       "stream": "stdout",
       "text": [
        "\n",
        "sample_size = 100000\n",
        "1 loops, best of 3: 258 ms per loop"
       ]
      },
      {
       "output_type": "stream",
       "stream": "stdout",
       "text": [
        "\n",
        "10 loops, best of 3: 149 ms per loop"
       ]
      },
      {
       "output_type": "stream",
       "stream": "stdout",
       "text": [
        "\n",
        "100 loops, best of 3: 3.05 ms per loop"
       ]
      },
      {
       "output_type": "stream",
       "stream": "stdout",
       "text": [
        "\n"
       ]
      }
     ],
     "prompt_number": 14
    },
    {
     "cell_type": "code",
     "collapsed": false,
     "input": [
      "def mc_sample_path_2(P, init, sample_size):\n",
      "    # CDFs, one for each row of P\n",
      "    cdfs = np.cumsum(P, axis=-1)\n",
      "    \n",
      "    # Random values, uniformly sampled from [0, 1)\n",
      "    u = np.random.random(size=sample_size)\n",
      "    \n",
      "    # === set up array to store output === #\n",
      "    X = np.empty(sample_size, dtype=int)\n",
      "    if isinstance(init, int):\n",
      "        X[0] = init\n",
      "    else:\n",
      "        cdf0 = np.cumsum(init)\n",
      "        X[0] = cdf0.searchsorted(u[0], side='right')\n",
      "\n",
      "    # === generate the sample path === #\n",
      "    if numba_installed:\n",
      "        _mc_sample_path_jit(cdfs, u, X)\n",
      "        return X\n",
      "    \n",
      "    # if not numba_installed\n",
      "    for t in range(sample_size-1):\n",
      "        X[t+1] = cdfs[X[t]].searchsorted(u[t+1], side='right')\n",
      "\n",
      "    return X\n",
      "\n",
      "\n",
      "if numba_installed:\n",
      "    @jit(nopython=True)\n",
      "    def _mc_sample_path_jit(cdfs, u, out):\n",
      "        n = len(cdfs)\n",
      "        sample_size = len(u)\n",
      "\n",
      "        for t in range(sample_size-1):\n",
      "            lo = -1\n",
      "            hi = n - 1\n",
      "            while(lo < hi-1):\n",
      "                m = (lo + hi) // 2\n",
      "                if u[t+1] < cdfs[out[t], m]:\n",
      "                    hi = m\n",
      "                else:\n",
      "                    lo = m\n",
      "            out[t+1] = hi"
     ],
     "language": "python",
     "metadata": {},
     "outputs": [],
     "prompt_number": 15
    },
    {
     "cell_type": "code",
     "collapsed": false,
     "input": [
      "P = np.array([[0.4, 0.6], [0.2, 0.8]])\n",
      "sample_size = 10**4\n",
      "\n",
      "X = mc_sample_path_2(P, init=init, sample_size=sample_size)\n",
      "print X.sum() / sample_size  # Should be close to 0.75"
     ],
     "language": "python",
     "metadata": {},
     "outputs": [
      {
       "output_type": "stream",
       "stream": "stdout",
       "text": [
        "0.7492\n"
       ]
      }
     ],
     "prompt_number": 16
    },
    {
     "cell_type": "code",
     "collapsed": false,
     "input": [
      "sample_sizes = [10**i for i in range(3, 6)]\n",
      "Q = rand_matrices[0]\n",
      "init = 0\n",
      "for sample_size in sample_sizes:\n",
      "    print 'sample_size = {0}'.format(sample_size)\n",
      "    %timeit mc_sample_path_2(Q, init=init, sample_size=sample_size)"
     ],
     "language": "python",
     "metadata": {},
     "outputs": [
      {
       "output_type": "stream",
       "stream": "stdout",
       "text": [
        "sample_size = 1000\n",
        "10000 loops, best of 3: 37.3 \u00b5s per loop"
       ]
      },
      {
       "output_type": "stream",
       "stream": "stdout",
       "text": [
        "\n",
        "sample_size = 10000\n",
        "1000 loops, best of 3: 312 \u00b5s per loop"
       ]
      },
      {
       "output_type": "stream",
       "stream": "stdout",
       "text": [
        "\n",
        "sample_size = 100000\n",
        "100 loops, best of 3: 3.08 ms per loop"
       ]
      },
      {
       "output_type": "stream",
       "stream": "stdout",
       "text": [
        "\n"
       ]
      }
     ],
     "prompt_number": 17
    },
    {
     "cell_type": "code",
     "collapsed": false,
     "input": [
      "import platform\n",
      "print platform.platform()"
     ],
     "language": "python",
     "metadata": {},
     "outputs": [
      {
       "output_type": "stream",
       "stream": "stdout",
       "text": [
        "Darwin-13.4.0-x86_64-i386-64bit\n"
       ]
      }
     ],
     "prompt_number": 18
    },
    {
     "cell_type": "code",
     "collapsed": false,
     "input": [
      "import sys\n",
      "print sys.version"
     ],
     "language": "python",
     "metadata": {},
     "outputs": [
      {
       "output_type": "stream",
       "stream": "stdout",
       "text": [
        "2.7.9 |Continuum Analytics, Inc.| (default, Dec 15 2014, 10:37:34) \n",
        "[GCC 4.2.1 (Apple Inc. build 5577)]\n"
       ]
      }
     ],
     "prompt_number": 19
    },
    {
     "cell_type": "code",
     "collapsed": false,
     "input": [
      "print np.__version__"
     ],
     "language": "python",
     "metadata": {},
     "outputs": [
      {
       "output_type": "stream",
       "stream": "stdout",
       "text": [
        "1.9.2\n"
       ]
      }
     ],
     "prompt_number": 20
    },
    {
     "cell_type": "code",
     "collapsed": false,
     "input": [
      "import numba\n",
      "print numba.__version__"
     ],
     "language": "python",
     "metadata": {},
     "outputs": [
      {
       "output_type": "stream",
       "stream": "stdout",
       "text": [
        "0.18.1\n"
       ]
      }
     ],
     "prompt_number": 21
    },
    {
     "cell_type": "code",
     "collapsed": false,
     "input": [],
     "language": "python",
     "metadata": {},
     "outputs": [],
     "prompt_number": 21
    }
   ],
   "metadata": {}
  }
 ]
}