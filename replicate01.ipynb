{
 "metadata": {
  "name": "",
  "signature": "sha256:f4746b5b3128c265ad3d44ae6f0abe8599c51d9099e8c3908bee6a8966079ef1"
 },
 "nbformat": 3,
 "nbformat_minor": 0,
 "worksheets": [
  {
   "cells": [
    {
     "cell_type": "code",
     "collapsed": false,
     "input": [
      "%load replicate01.py"
     ],
     "language": "python",
     "metadata": {},
     "outputs": [],
     "prompt_number": 1
    },
    {
     "cell_type": "code",
     "collapsed": false,
     "input": [
      "from __future__ import division\n",
      "\n",
      "import numpy as np\n",
      "from numba import jit\n",
      "\n",
      "\n",
      "@jit(nopython=True)\n",
      "def searchsorted(a, v):\n",
      "    lo = -1\n",
      "    hi = len(a)\n",
      "    while(lo < hi-1):\n",
      "        m = (lo + hi) // 2\n",
      "        if v < a[m]:\n",
      "            hi = m\n",
      "        else:\n",
      "            lo = m\n",
      "    return hi\n",
      "\n",
      "\n",
      "@jit\n",
      "def _replicate_markov_chain(P_cdfs, T, num_reps, init_states,\n",
      "                            random_state=None):\n",
      "    \"\"\"\n",
      "    Main body of MarkovChain.replicate.\n",
      "\n",
      "    Parameters\n",
      "    ----------\n",
      "    P_cdfs : ndarray(float, ndim=2)\n",
      "        Array containing as rows the CDFs of the state transition.\n",
      "\n",
      "    num_reps : scalar(int)\n",
      "        Number of replication.\n",
      "\n",
      "    init : ndarray(int, ndim=1)\n",
      "        Array of length num_reps containing the initial states.\n",
      "\n",
      "    random_state : scalar(int) or np.random.RandomState,\n",
      "                   optional(default=None)\n",
      "        Random seed (int) or np.random.RandomState instance.\n",
      "\n",
      "    Returns\n",
      "    -------\n",
      "    out : ndarray(int, ndim=1)\n",
      "        Array containing the num_reps observations of the state at\n",
      "        time T.\n",
      "\n",
      "    Notes\n",
      "    -----\n",
      "    This routine is jit-complied if the module Numba is vailable.\n",
      "\n",
      "    \"\"\"\n",
      "    out = np.empty(num_reps, dtype=int)\n",
      "\n",
      "    if random_state is None or isinstance(random_state, int):\n",
      "        _random_state = np.random.RandomState(random_state)\n",
      "    elif isinstance(random_state, np.random.RandomState):\n",
      "        _random_state = random_state\n",
      "    else:\n",
      "        raise ValueError\n",
      "    u = _random_state.random_sample(size=(num_reps, T))\n",
      "    # u = np.random.random(size=(num_reps, T))\n",
      "\n",
      "    for i in range(num_reps):\n",
      "        x_current = init_states[i]\n",
      "        for t in range(T):\n",
      "            x_next = searchsorted(P_cdfs[x_current], u[i, t])\n",
      "            x_current = x_next\n",
      "        out[i] = x_current\n",
      "\n",
      "    return out\n",
      "\n",
      "\n",
      "if __name__ == '__main__':\n",
      "    P = [[0.4, 0.6], [0.2, 0.8]]\n",
      "    P_cdfs = np.cumsum(P, axis=-1)\n",
      "    T = 100\n",
      "    num_reps = 10**3\n",
      "    init_states = np.zeros(num_reps, dtype=int)\n",
      "    prng = np.random.RandomState(0)\n",
      "    X_Ts = _replicate_markov_chain(P_cdfs, T, num_reps, init_states,\n",
      "                                   random_state=prng)\n",
      "    print X_Ts.sum() / num_reps\n"
     ],
     "language": "python",
     "metadata": {},
     "outputs": []
    },
    {
     "cell_type": "code",
     "collapsed": false,
     "input": [
      "%run replicate01.py"
     ],
     "language": "python",
     "metadata": {},
     "outputs": [
      {
       "output_type": "stream",
       "stream": "stdout",
       "text": [
        "0.75\n"
       ]
      }
     ],
     "prompt_number": 2
    },
    {
     "cell_type": "code",
     "collapsed": false,
     "input": [
      "from __future__ import division\n",
      "X_Ts = _replicate_markov_chain(P_cdfs, T, num_reps, init_states, random_state=1234)\n",
      "print X_Ts.sum() / num_reps"
     ],
     "language": "python",
     "metadata": {},
     "outputs": [
      {
       "output_type": "stream",
       "stream": "stdout",
       "text": [
        "0.758\n"
       ]
      }
     ],
     "prompt_number": 3
    },
    {
     "cell_type": "code",
     "collapsed": false,
     "input": [
      "import numpy as np\n",
      "prng = np.random.RandomState(1234)\n",
      "X_Ts = _replicate_markov_chain(P_cdfs, T, num_reps, init_states, random_state=prng)\n",
      "print X_Ts.sum() / num_reps"
     ],
     "language": "python",
     "metadata": {},
     "outputs": [
      {
       "output_type": "stream",
       "stream": "stdout",
       "text": [
        "0.758\n"
       ]
      }
     ],
     "prompt_number": 4
    },
    {
     "cell_type": "code",
     "collapsed": false,
     "input": [
      "!numba --annotate-html replicate01_annotate.html replicate01.py"
     ],
     "language": "python",
     "metadata": {},
     "outputs": [
      {
       "output_type": "stream",
       "stream": "stdout",
       "text": [
        "0.75\r\n"
       ]
      }
     ],
     "prompt_number": 5
    },
    {
     "cell_type": "code",
     "collapsed": false,
     "input": [
      "from IPython.display import HTML\n",
      "HTML('<iframe src=replicate01_annotate.html width=100% height=1100></iframe>')"
     ],
     "language": "python",
     "metadata": {},
     "outputs": [
      {
       "html": [
        "<iframe src=replicate01_annotate.html width=100% height=1100></iframe>"
       ],
       "metadata": {},
       "output_type": "pyout",
       "prompt_number": 6,
       "text": [
        "<IPython.core.display.HTML at 0x109024710>"
       ]
      }
     ],
     "prompt_number": 6
    },
    {
     "cell_type": "code",
     "collapsed": false,
     "input": [
      "import platform\n",
      "print platform.platform()\n",
      "\n",
      "import sys\n",
      "print sys.version\n",
      "\n",
      "print 'NumPy:', np.__version__\n",
      "\n",
      "import numba\n",
      "print 'Numba:', numba.__version__"
     ],
     "language": "python",
     "metadata": {},
     "outputs": [
      {
       "output_type": "stream",
       "stream": "stdout",
       "text": [
        "Darwin-13.4.0-x86_64-i386-64bit\n",
        "2.7.8 (default, Jul  2 2014, 10:14:46) \n",
        "[GCC 4.2.1 Compatible Apple LLVM 5.1 (clang-503.0.40)]\n",
        "NumPy: 1.9.2\n",
        "Numba: 0.18.2\n"
       ]
      }
     ],
     "prompt_number": 7
    },
    {
     "cell_type": "code",
     "collapsed": false,
     "input": [],
     "language": "python",
     "metadata": {},
     "outputs": [],
     "prompt_number": 7
    }
   ],
   "metadata": {}
  }
 ]
}